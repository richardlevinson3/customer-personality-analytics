{
 "cells": [
  {
   "cell_type": "markdown",
   "metadata": {},
   "source": [
    "# Cusomter Personality Analytics"
   ]
  },
  {
   "cell_type": "markdown",
   "metadata": {},
   "source": [
    "Customer Personality Analytics involves analyzing customer data to understand their preferences, behaviors, and characteristics. This analysis helps businesses to segment their customers, predict their needs, and tailor their marketing strategies accordingly. By leveraging customer personality analytics, companies can enhance customer satisfaction, improve retention rates, and drive sales growth."
   ]
  },
  {
   "cell_type": "markdown",
   "metadata": {},
   "source": [
    "<a id=\"contents_tabel\"></a>    \n",
    "* [Step 1 | Setup and Initialization](#setup)\n",
    "    - [Step 1.1 | Importing Necessary Libraries](#libraries) \n",
    "    - [Step 1.2 | Loading the Dataset](#load_dataset)\n",
    "* [Step 2 | Initial Data Analysis](#initial_analysis) \n",
    "    - [Step 2.1 | Dataset Overview](#overview) \n",
    "    - [Step 2.2 | Summary Statistics](#statistics) \n",
    "* [Step 3 | Data Cleaning & Transformation](#data_cleaning)\n",
    "    - [Step 3.1 | Handling Missing Values](#missing_values)\n",
    "    - [Step 3.2 | Handling Duplicates](#duplicates)\n",
    "    - [Step 3.3 | Treating Cancelled Transactions](#InvoiceNo_cleaning)\n",
    "    - [Step 3.4 | Correcting StockCode Anomalies](#StockCode_cleaning)\n",
    "    - [Step 3.5 | Cleaning Description Column](#Description_cleaning)\n",
    "    - [Step 3.6 | Treating Zero Unit Prices](#UnitPrice_cleaning)\n",
    "    - [Step 3.7 | Outlier Treatment](#outlier_cleaning)\n",
    "* [Step 4 | Feature Engineering](#feature_engineering)\n",
    "    - [Step 4.1 | RFM Features](#rfm_features)\n",
    "        - [Step 4.1.1 | Recency (R)](#recency) \n",
    "        - [Step 4.1.2 | Frequency (F)](#frequency)\n",
    "        - [Step 4.1.3 | Monetary (M)](#monetary)\n",
    "    - [Step 4.2 | Product Diversity](#product_diversity)\n",
    "    - [Step 4.3 | Behavioral Features](#behaviroal_features)\n",
    "    - [Step 4.4 | Geographic Features](#geographical_features)\n",
    "    - [Step 4.5 | Cancellation Insights](#cancellation_insights) \n",
    "    - [Step 4.6 | Seasonality & Trends](#seasonality_trends) \n",
    "* [Step 5 | Outlier Detection and Treatment](#outlier_detection)\n",
    "* [Step 6 | Correlation Analysis](#correlation)\n",
    "* [Step 7 | Feature Scaling](#scaling)\n",
    "* [Step 8 | Dimensionality Reduction](#pca)\n",
    "* [Step 9 | K-Means Clustering](#kmeans) \n",
    "    - [Step 9.1 | Determining the Optimal Number of Clusters](#optimal_k) \n",
    "        - [Step 9.1.1 | Elbow Method](#elbow)\n",
    "        - [Step 9.1.2 | Silhouette Method](#silhouette)\n",
    "    - [Step 9.2 | Clustering Model - K-means](#kmeans_model)\n",
    "* [Step 10 | Clustering Evaluation](#evaluation)  \n",
    "    - [Step 10.1 | 3D Visualization of Top Principal Components](#3d_visualization)\n",
    "    - [Step 10.2 | Cluster Distribution Visualization](#cluster_distributuion) \n",
    "    - [Step 10.3 | Evaluation Metrics](#evaluations_metrics)\n",
    "* [Step 11 | Cluster Analysis and Profiling](#profiling)\n",
    "    - [Step 11.1 | Radar Chart Approach](#radar_chart)\n",
    "    - [Step 11.2 | Histogram Chart Approach](#histogram)\n",
    "* [Step 12 | Recommendation System](#recommendation_system)"
   ]
  },
  {
   "cell_type": "markdown",
   "metadata": {},
   "source": [
    "<a id=\"setup\"></a>\n",
    "## Step 1 | Setup and Initialization\n",
    "⬆️ [Tabel of Contents](#contents_tabel)"
   ]
  },
  {
   "cell_type": "code",
   "execution_count": null,
   "metadata": {
    "vscode": {
     "languageId": "markdown"
    }
   },
   "outputs": [],
   "source": []
  },
  {
   "cell_type": "code",
   "execution_count": null,
   "metadata": {},
   "outputs": [],
   "source": []
  }
 ],
 "metadata": {
  "language_info": {
   "name": "python"
  }
 },
 "nbformat": 4,
 "nbformat_minor": 2
}
